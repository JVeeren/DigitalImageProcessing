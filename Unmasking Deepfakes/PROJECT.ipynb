{
 "cells": [
  {
   "cell_type": "markdown",
   "metadata": {},
   "source": [
    "# Unmasking DeepFakes with simple Features"
   ]
  },
  {
   "cell_type": "markdown",
   "metadata": {},
   "source": [
    "## importing required packages"
   ]
  },
  {
   "cell_type": "markdown",
   "metadata": {},
   "source": [
    "* required to install numpy,opencv,matplotlib"
   ]
  },
  {
   "cell_type": "code",
   "execution_count": 1,
   "metadata": {},
   "outputs": [],
   "source": [
    "import cv2\n",
    "import os\n",
    "import numpy as np\n",
    "from matplotlib import pyplot as plt\n",
    "import pickle"
   ]
  },
  {
   "cell_type": "markdown",
   "metadata": {},
   "source": [
    "## Pre-processing\n",
    "## Discrete Fourier Transform & AzimuthalAverage\n",
    "* this is done in imagepreprossing function "
   ]
  },
  {
   "cell_type": "code",
   "execution_count": 2,
   "metadata": {},
   "outputs": [],
   "source": [
    "power_specturm = {}#dictionary\n",
    "epsilon = 1e-8\n",
    "\n",
    "def imagepreprocessing(img): \n",
    "    #DFT of an image using FFT from numpy\n",
    "    f = np.fft.fft2(img)\n",
    "    fshift = np.fft.fftshift(f)\n",
    "    fshift += epsilon\n",
    "    magnitude_spectrum = 20*np.log(np.abs(fshift))\n",
    "    \n",
    "    #azimuthalAverage\n",
    "    x, y = np.indices((magnitude_spectrum.shape))\n",
    "    center = np.array([(x.max()-x.min())/2.0, (y.max()-y.min())/2.0])\n",
    "    r = np.sqrt((x - center[0])**2 + (y - center[1])**2)\n",
    "    r = r.astype(np.int)\n",
    "    np.seterr(divide = 'ignore') \n",
    "    tbin = np.bincount(r.ravel(), magnitude_spectrum.ravel())\n",
    "    nr = np.bincount(r.ravel())\n",
    "    radialprofile = tbin / nr\n",
    "    radialprofile=radialprofile[1:len(radialprofile)-1]\n",
    "    return radialprofile "
   ]
  },
  {
   "cell_type": "markdown",
   "metadata": {},
   "source": [
    "## Loading Images and sending it to imagepreprocessing() function\n",
    "### data set is avaliable in the folder\n",
    "* fake images label is 0"
   ]
  },
  {
   "cell_type": "code",
   "execution_count": 40,
   "metadata": {},
   "outputs": [],
   "source": [
    "#fake\n",
    "cwd = os.getcwd()\n",
    "datasetfake=cwd+\"/FAKE\"\n",
    "listofimages=os.listdir(datasetfake)\n",
    "\n",
    "for i in listofimages[:len(listofimages)]:\n",
    "    imagename=datasetfake+\"/\"+i\n",
    "    img1 = cv2.imread(imagename,0)\n",
    "    w=len(img1[0])\n",
    "    h=len(img1)\n",
    "    power_specturm[i]={\"data\":imagepreprocessing(img1),\"label\":1}\n"
   ]
  },
  {
   "cell_type": "markdown",
   "metadata": {},
   "source": [
    "* real images label is 1"
   ]
  },
  {
   "cell_type": "code",
   "execution_count": 33,
   "metadata": {},
   "outputs": [],
   "source": [
    "#real\n",
    "cwd1= os.getcwd()\n",
    "datasetreal=cwd1+\"/REAL\"\n",
    "listofimages1=os.listdir(datasetreal)\n",
    "\n",
    "for i in listofimages1[:len(listofimages1)]:\n",
    "    imagename=datasetreal+\"/\"+i\n",
    "    img1 = cv2.imread(imagename,0)\n",
    "    dim = (w, h)\n",
    "    # resize image\n",
    "    resized = cv2.resize(img1, dim, interpolation = cv2.INTER_AREA)\n",
    "    \n",
    "    power_specturm[i]={\"data\":imagepreprocessing(resized),\"label\":0}"
   ]
  },
  {
   "cell_type": "markdown",
   "metadata": {},
   "source": [
    "* using the pickle library for storing the data"
   ]
  },
  {
   "cell_type": "code",
   "execution_count": 34,
   "metadata": {},
   "outputs": [
    {
     "name": "stdout",
     "output_type": "stream",
     "text": [
      "DONE\n"
     ]
    }
   ],
   "source": [
    "with open('datas.pkl','wb') as pickle_file:\n",
    "    pickle.dump(power_specturm,pickle_file)\n",
    "    pickle_file.close()\n",
    "    \n",
    "\n",
    "print(\"DONE\")"
   ]
  },
  {
   "cell_type": "markdown",
   "metadata": {},
   "source": [
    "## Extraction of Data"
   ]
  },
  {
   "cell_type": "code",
   "execution_count": 35,
   "metadata": {},
   "outputs": [
    {
     "data": {
      "text/plain": [
       "[<matplotlib.lines.Line2D at 0x7fc2464afb00>]"
      ]
     },
     "execution_count": 35,
     "metadata": {},
     "output_type": "execute_result"
    },
    {
     "data": {
      "image/png": "[encoded data removed]",
      "text/plain": [
       "<Figure size 432x288 with 1 Axes>"
      ]
     },
     "metadata": {
      "needs_background": "light"
     },
     "output_type": "display_data"
    }
   ],
   "source": [
    "with open('datas.pkl','rb') as pickle_file1:\n",
    "    power_specturm1=pickle.load(pickle_file1) \n",
    "    pickle_file1.close()\n",
    "\n",
    "\n",
    "y=[]\n",
    "X=[]\n",
    "\n",
    "for i in power_specturm1:\n",
    "        X.append(power_specturm1[i][\"data\"])\n",
    "        y.append(power_specturm1[i][\"label\"])\n",
    "        \n",
    "#distribution\n",
    "plt.plot(y)"
   ]
  },
  {
   "cell_type": "markdown",
   "metadata": {},
   "source": [
    "## Classification"
   ]
  },
  {
   "cell_type": "markdown",
   "metadata": {},
   "source": [
    "### logistic regression"
   ]
  },
  {
   "cell_type": "code",
   "execution_count": 37,
   "metadata": {},
   "outputs": [
    {
     "name": "stdout",
     "output_type": "stream",
     "text": [
      "Average LR for 2000 images: 0.9627499999999998\n",
      "Average LR for 1500 images: 0.9679999999999997\n"
     ]
    }
   ],
   "source": [
    "from sklearn.linear_model import LogisticRegression\n",
    "from sklearn import preprocessing\n",
    "num=10\n",
    "LR=0\n",
    "LR1=0\n",
    "for z in range(num):\n",
    "    from sklearn.model_selection import train_test_split\n",
    "    X_train, X_test, y_train, y_test = train_test_split(X, y, test_size = 0.2)\n",
    "    logreg = LogisticRegression(solver='liblinear', max_iter=1000)\n",
    "    logreg.fit(X_train, y_train)\n",
    "    LR+=logreg.score(X_test, y_test)\n",
    "    \n",
    "print(\"Average LR for 2000 images: \"+str(LR/num))\n",
    "\n",
    "for z in range(num):\n",
    "    from sklearn.model_selection import train_test_split\n",
    "    X_train, X_test, y_train, y_test = train_test_split(X[:1500], y[:1500], test_size = 0.2)\n",
    "    logreg = LogisticRegression(solver='liblinear', max_iter=1000)\n",
    "    logreg.fit(X_train, y_train)\n",
    "    LR1+=logreg.score(X_test, y_test)\n",
    "    \n",
    "print(\"Average LR for 1500 images: \"+str(LR1/num))\n",
    "\n"
   ]
  },
  {
   "cell_type": "markdown",
   "metadata": {},
   "source": [
    "### SVM"
   ]
  },
  {
   "cell_type": "code",
   "execution_count": 38,
   "metadata": {},
   "outputs": [
    {
     "name": "stdout",
     "output_type": "stream",
     "text": [
      "0.9525\n"
     ]
    }
   ],
   "source": [
    "from sklearn.model_selection import train_test_split\n",
    "X_train, X_test, y_train, y_test = train_test_split(X, y, test_size = 0.2, random_state = 0)\n",
    "\n",
    "# Feature Scaling\n",
    "from sklearn.preprocessing import StandardScaler\n",
    "sc = StandardScaler()\n",
    "X_train = sc.fit_transform(X_train)\n",
    "X_test = sc.transform(X_test)\n",
    "\n",
    "from sklearn import svm\n",
    "clf = svm.SVC(kernel='linear', C=1000)\n",
    "\n",
    "clf.fit(X_train,y_train)\n",
    "y_pred = clf.predict(X_test)\n",
    "\n",
    "from sklearn.metrics import accuracy_score\n",
    "\n",
    "acc = accuracy_score(y_test,y_pred)\n",
    "\n",
    "print(acc)"
   ]
  },
  {
   "cell_type": "markdown",
   "metadata": {},
   "source": [
    "## GaussianNB"
   ]
  },
  {
   "cell_type": "code",
   "execution_count": 41,
   "metadata": {},
   "outputs": [
    {
     "name": "stdout",
     "output_type": "stream",
     "text": [
      "0.8175\n"
     ]
    }
   ],
   "source": [
    "from sklearn.model_selection import train_test_split\n",
    "X_train, X_test, y_train, y_test = train_test_split(X, y, test_size = 0.2, random_state = 0)\n",
    "\n",
    "# Feature Scaling\n",
    "from sklearn.preprocessing import StandardScaler\n",
    "sc = StandardScaler()\n",
    "X_train = sc.fit_transform(X_train)\n",
    "X_test = sc.transform(X_test)\n",
    "\n",
    "from sklearn.naive_bayes import GaussianNB\n",
    "bayesclassifier = GaussianNB()\n",
    "\n",
    "bayesclassifier.fit(X_train,y_train)\n",
    "y_pred = bayesclassifier.predict(X_test)\n",
    "\n",
    "from sklearn.metrics import accuracy_score\n",
    "\n",
    "acc = accuracy_score(y_test,y_pred)\n",
    "\n",
    "print(acc)"
   ]
  },
  {
   "cell_type": "markdown",
   "metadata": {},
   "source": [
    "## Artificial neural network(ANN)"
   ]
  },
  {
   "cell_type": "markdown",
   "metadata": {},
   "source": [
    "* Used Spyder Environment, TensorFlow and keras to run this code and "
   ]
  },
  {
   "cell_type": "markdown",
   "metadata": {},
   "source": [
    "* code in file ANN.py "
   ]
  },
  {
   "cell_type": "code",
   "execution_count": null,
   "metadata": {},
   "outputs": [],
   "source": []
  },
  {
   "cell_type": "code",
   "execution_count": null,
   "metadata": {},
   "outputs": [],
   "source": []
  }
 ],
 "metadata": {
  "kernelspec": {
   "display_name": "Python 3",
   "language": "python",
   "name": "python3"
  },
  "language_info": {
   "codemirror_mode": {
    "name": "ipython",
    "version": 3
   },
   "file_extension": ".py",
   "mimetype": "text/x-python",
   "name": "python",
   "nbconvert_exporter": "python",
   "pygments_lexer": "ipython3",
   "version": "3.6.9"
  }
 },
 "nbformat": 4,
 "nbformat_minor": 4
}
